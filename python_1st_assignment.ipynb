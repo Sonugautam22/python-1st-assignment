{
  "nbformat": 4,
  "nbformat_minor": 0,
  "metadata": {
    "colab": {
      "provenance": []
    },
    "kernelspec": {
      "name": "python3",
      "display_name": "Python 3"
    },
    "language_info": {
      "name": "python"
    }
  },
  "cells": [
    {
      "cell_type": "markdown",
      "source": [],
      "metadata": {
        "id": "We8QhMBrvp-1"
      }
    },
    {
      "cell_type": "markdown",
      "source": [
        "1.Explain the key features of Python that make it a popular choice for programming.\n",
        "- The key features of python that make it a popular choice for programming are:-\n",
        "Here are the key features of Python that make it popular:\n",
        "\n",
        " a). **Easy to Learn & Use** – Simple syntax, similar to English.\n",
        "\n",
        " b). **Interpreted Language** – Runs code line-by-line, great for debugging.\n",
        "\n",
        " c). **Versatile** – Used in web development, data science, automation, AI, etc.\n",
        "\n",
        " d). **Large Standard Library** – Built-in modules for various tasks.\n",
        "\n",
        " e). **Community Support** – Active community with plenty of tutorials and libraries.\n",
        "\n",
        " f). **Cross-Platform** – Runs on Windows, macOS, Linux, etc.\n",
        "\n",
        " g). **Object-Oriented & Functional** – Supports multiple programming paradigms.\n",
        "\n",
        " h). **Extensible & Embeddable** – Can integrate with C/C++ and other languages.\n",
        "\n",
        "\n",
        "\n",
        "2.Describe the role of predefined keywords in Python and provide examples of how they are used in a\n",
        "program.\n",
        "- Predefined keywords in Python are reserved words that have special meaning and cannot be used as identifiers They define the syntax and structure of the Python language.\n",
        "\n",
        "Example:\n",
        "\n",
        "a.) if, else, elif – used for conditional statements:\n",
        "\n",
        "\n",
        "\n"
      ],
      "metadata": {
        "id": "LGtqA-DYvtZj"
      }
    },
    {
      "cell_type": "code",
      "source": [
        "x = 10\n",
        "\n",
        "if x > 0:\n",
        "    print(\"Positive\")\n",
        "elif x == 0:\n",
        "    print(\"Zero\")\n",
        "else:\n",
        "    print(\"Negative\")\n"
      ],
      "metadata": {
        "colab": {
          "base_uri": "https://localhost:8080/"
        },
        "id": "Ckg9fGST1Sgw",
        "outputId": "96cac2de-6b46-4baa-d62a-c836c9ffad62"
      },
      "execution_count": 12,
      "outputs": [
        {
          "output_type": "stream",
          "name": "stdout",
          "text": [
            "Positive\n"
          ]
        }
      ]
    },
    {
      "cell_type": "markdown",
      "source": [
        "b.) for, while – used for loops:\n",
        ""
      ],
      "metadata": {
        "id": "AkV7LTeFyk13"
      }
    },
    {
      "cell_type": "code",
      "source": [
        "for i in range(5):\n",
        "    print(i)\n",
        ""
      ],
      "metadata": {
        "colab": {
          "base_uri": "https://localhost:8080/"
        },
        "id": "V-dBo0Ga1kp5",
        "outputId": "691c41a0-a90a-409f-9d24-fec6eb47200a"
      },
      "execution_count": 5,
      "outputs": [
        {
          "output_type": "stream",
          "name": "stdout",
          "text": [
            "0\n",
            "1\n",
            "2\n",
            "3\n",
            "4\n"
          ]
        }
      ]
    },
    {
      "cell_type": "markdown",
      "source": [
        "c.)def – defines a function:"
      ],
      "metadata": {
        "id": "8w91IbLA1rHy"
      }
    },
    {
      "cell_type": "code",
      "source": [
        "def greet(name):\n",
        "    print(\"Hello\", name)\n",
        "\n"
      ],
      "metadata": {
        "id": "sdlxzcx2102k"
      },
      "execution_count": 15,
      "outputs": []
    },
    {
      "cell_type": "markdown",
      "source": [
        "d.)class – defines a class:\n",
        "\n",
        "\n"
      ],
      "metadata": {
        "id": "frQNRhaz1_89"
      }
    },
    {
      "cell_type": "code",
      "source": [
        "class Dog:\n",
        "    pass\n",
        "\n"
      ],
      "metadata": {
        "id": "auqdiURN2J1b"
      },
      "execution_count": 11,
      "outputs": []
    },
    {
      "cell_type": "markdown",
      "source": [
        "3.Compare and contrast mutable and immutable objects in Python with examples.\n",
        "\n",
        "\n",
        "\n",
        "*  Mutable vs Immutable Objects in Python:-\n",
        "\n",
        "          (Mutable)                                        \n",
        "\n",
        "Definition: \tCan be changed after creation.  \n",
        "\n",
        "Examples: \tlist, dict, set, bytearray.\n",
        "\n",
        "Memory Behavior: Changes in place (same ID).\n",
        "\n",
        "Use Case: \tWhen data needs to change.\n",
        "\n",
        "            (Immutable)\n",
        "\n",
        "\n",
        "Definition: Cannot be changed after creation.\n",
        "\n",
        "Examples: int, float, str, tuple, frozenset.\n",
        "\n",
        "Memory Behavior: New object created on change.\n",
        "\n",
        "Use Case: When data must remain constant\n",
        "\n",
        "Example (Mutable):"
      ],
      "metadata": {
        "id": "GsiqNpfj2pCd"
      }
    },
    {
      "cell_type": "code",
      "source": [
        "a = [1, 2, 3]\n",
        "a[0] = 100\n",
        "print(a)  # [100, 2, 3]\n"
      ],
      "metadata": {
        "colab": {
          "base_uri": "https://localhost:8080/"
        },
        "id": "kDdCrcwY6qBV",
        "outputId": "604a4734-be26-4e24-9d5e-82118b0f5044"
      },
      "execution_count": 16,
      "outputs": [
        {
          "output_type": "stream",
          "name": "stdout",
          "text": [
            "[100, 2, 3]\n"
          ]
        }
      ]
    },
    {
      "cell_type": "markdown",
      "source": [
        "Example (Immutable):\n"
      ],
      "metadata": {
        "id": "AbR6fiGt6tud"
      }
    },
    {
      "cell_type": "code",
      "source": [
        "s = \"hello\"\n",
        "s = s.replace(\"h\", \"y\")\n",
        "print(s)  # \"yello\" (new string created)\n"
      ],
      "metadata": {
        "colab": {
          "base_uri": "https://localhost:8080/"
        },
        "id": "J_ybJw3V6wqN",
        "outputId": "fcf80209-6959-4616-8fe9-c9fa8b3c2251"
      },
      "execution_count": 17,
      "outputs": [
        {
          "output_type": "stream",
          "name": "stdout",
          "text": [
            "yello\n"
          ]
        }
      ]
    },
    {
      "cell_type": "markdown",
      "source": [
        "4.Discuss the different types of operators in Python and provide examples of how they are used.\n",
        "\n",
        "*  In Python, operators are special symbols or keywords used to perform operations on variables and values. There are several types of operators, each serving a different purpose.\n",
        "\n",
        "a.)Arithmetic Operators:\n",
        "\n",
        "   Perform basic math operations.\n",
        "\n",
        "\n",
        "\n",
        "\n",
        "\n"
      ],
      "metadata": {
        "id": "sIHNfj_s60L1"
      }
    },
    {
      "cell_type": "code",
      "source": [
        "a = 10; b = 3\n",
        "print(a + b)  # 13\n",
        "print(a % b)  # 1\n"
      ],
      "metadata": {
        "colab": {
          "base_uri": "https://localhost:8080/"
        },
        "id": "d6WfEcuw8Au8",
        "outputId": "308f1e06-546e-42a0-caa8-3d2b4fc4d29f"
      },
      "execution_count": 18,
      "outputs": [
        {
          "output_type": "stream",
          "name": "stdout",
          "text": [
            "13\n",
            "1\n"
          ]
        }
      ]
    },
    {
      "cell_type": "markdown",
      "source": [
        "b.) Comparison Operators:\n",
        "\n",
        " Compare values and return True or False.\n",
        "\n",
        "\n"
      ],
      "metadata": {
        "id": "4fPpYC6v8EUy"
      }
    },
    {
      "cell_type": "code",
      "source": [
        "print(5 > 3)    # True\n",
        "print(5 == 5)   # True\n"
      ],
      "metadata": {
        "colab": {
          "base_uri": "https://localhost:8080/"
        },
        "id": "0iySUVW08QQn",
        "outputId": "29b91022-b198-4e0f-e4e6-94e7880808ba"
      },
      "execution_count": 19,
      "outputs": [
        {
          "output_type": "stream",
          "name": "stdout",
          "text": [
            "True\n",
            "True\n"
          ]
        }
      ]
    },
    {
      "cell_type": "markdown",
      "source": [
        "c.)Assignment Operators:\n",
        "\n",
        "  Assign and update variable values.\n",
        "\n"
      ],
      "metadata": {
        "id": "dIONKE4Z8T4i"
      }
    },
    {
      "cell_type": "code",
      "source": [
        "x = 5\n",
        "x += 2  # x = x + 2\n",
        "print(x)  # 7\n"
      ],
      "metadata": {
        "colab": {
          "base_uri": "https://localhost:8080/"
        },
        "id": "k2q1bxVi8i0Z",
        "outputId": "abace385-03c4-4e9b-cb49-7c07e27e5436"
      },
      "execution_count": 20,
      "outputs": [
        {
          "output_type": "stream",
          "name": "stdout",
          "text": [
            "7\n"
          ]
        }
      ]
    },
    {
      "cell_type": "markdown",
      "source": [
        "d.)Logical Operators:\n",
        "\n",
        "Combine multiple conditions.\n",
        "\n",
        "\n",
        "\n"
      ],
      "metadata": {
        "id": "a4rrs2-Z8zUp"
      }
    },
    {
      "cell_type": "code",
      "source": [
        "print(True and False)  # False\n",
        "print(not True)        # False\n"
      ],
      "metadata": {
        "colab": {
          "base_uri": "https://localhost:8080/"
        },
        "id": "5ECsOLop87-h",
        "outputId": "2f353695-e572-41d2-cd3e-b93ed6228afe"
      },
      "execution_count": 21,
      "outputs": [
        {
          "output_type": "stream",
          "name": "stdout",
          "text": [
            "False\n",
            "False\n"
          ]
        }
      ]
    },
    {
      "cell_type": "markdown",
      "source": [
        "e.)Bitwise Operators:\n",
        "\n",
        "Operate on bits (binary values).\n",
        "\n",
        "\n"
      ],
      "metadata": {
        "id": "yi2tdAAW9AzA"
      }
    },
    {
      "cell_type": "code",
      "source": [
        "print(5 & 3)   # 1\n",
        "print(5 << 1)  # 10\n"
      ],
      "metadata": {
        "colab": {
          "base_uri": "https://localhost:8080/"
        },
        "id": "jvLdokCn9Sv4",
        "outputId": "0e049af1-3091-4e82-eb30-dc71d7bd809b"
      },
      "execution_count": 22,
      "outputs": [
        {
          "output_type": "stream",
          "name": "stdout",
          "text": [
            "1\n",
            "10\n"
          ]
        }
      ]
    },
    {
      "cell_type": "markdown",
      "source": [
        "f.) Membership Operators:\n",
        "\n",
        "Check if a value exists in a sequence."
      ],
      "metadata": {
        "id": "9cww2avR9YqO"
      }
    },
    {
      "cell_type": "code",
      "source": [
        "print('a' in 'apple')      # True\n",
        "print(3 not in [1, 2, 3])  # False\n"
      ],
      "metadata": {
        "colab": {
          "base_uri": "https://localhost:8080/"
        },
        "id": "4qOQ0L8M9ftQ",
        "outputId": "40a0f4a9-e107-499b-ecaa-1bddcd323180"
      },
      "execution_count": 23,
      "outputs": [
        {
          "output_type": "stream",
          "name": "stdout",
          "text": [
            "True\n",
            "False\n"
          ]
        }
      ]
    },
    {
      "cell_type": "markdown",
      "source": [
        "g.) Identity Operators:\n",
        "\n",
        "Check if variables refer to the same object"
      ],
      "metadata": {
        "id": "ffPaTFjr9iIg"
      }
    },
    {
      "cell_type": "code",
      "source": [
        "a = [1, 2]; b = a; c = [1, 2]\n",
        "print(a is b)    # True\n",
        "print(a is c)    # False\n"
      ],
      "metadata": {
        "colab": {
          "base_uri": "https://localhost:8080/"
        },
        "id": "3K8arKWf9pgc",
        "outputId": "9d02f9e5-8779-47ee-ce11-6d4660f45670"
      },
      "execution_count": 24,
      "outputs": [
        {
          "output_type": "stream",
          "name": "stdout",
          "text": [
            "True\n",
            "False\n"
          ]
        }
      ]
    },
    {
      "cell_type": "markdown",
      "source": [
        "5.Explain the concept of type casting in Python with examples.\n",
        "\n",
        "\n",
        "* Type Casting in Python is the process of converting the data type of a variable into another type. It’s useful when you need to perform operations involving different data types.\n",
        "\n",
        "🔸 Types of Type Casting:-\n",
        "\n",
        "a). Implicit Type Casting:\n",
        "\n",
        "\n",
        "* Python automatically converts one data type to another during an operation when it’s safe to do so.  \n",
        "\n",
        "example:\n",
        "\n",
        "\n"
      ],
      "metadata": {
        "id": "9FUIVQXI9u6e"
      }
    },
    {
      "cell_type": "code",
      "source": [
        "x = 5\n",
        "y = 2.0\n",
        "z = x + y\n",
        "print(z)\n"
      ],
      "metadata": {
        "colab": {
          "base_uri": "https://localhost:8080/"
        },
        "id": "XFX_VVwi_Ga-",
        "outputId": "54ea74c7-595a-4891-bd8e-87e4d4905af6"
      },
      "execution_count": 26,
      "outputs": [
        {
          "output_type": "stream",
          "name": "stdout",
          "text": [
            "7.0\n"
          ]
        }
      ]
    },
    {
      "cell_type": "markdown",
      "source": [
        "b.) Explicit Type Casting:\n",
        "\n",
        "\n",
        "* You manually convert one data type into another using functions like:\n",
        "\n",
        "  int()\n",
        "\n",
        "  float()\n",
        "\n",
        "  str()\n",
        "\n",
        "  bool()"
      ],
      "metadata": {
        "id": "XenG4HVX_PeY"
      }
    },
    {
      "cell_type": "code",
      "source": [
        "a = \"10\"\n",
        "b = int(a)\n",
        "print(b + 5)\n",
        "\n",
        "c = 3\n",
        "d = float(c)\n",
        "print(d)\n"
      ],
      "metadata": {
        "colab": {
          "base_uri": "https://localhost:8080/"
        },
        "id": "efKiu-Hf_9Xq",
        "outputId": "fff8a0b3-303f-4a70-f06a-5ff42a8d93af"
      },
      "execution_count": 27,
      "outputs": [
        {
          "output_type": "stream",
          "name": "stdout",
          "text": [
            "15\n",
            "3.0\n"
          ]
        }
      ]
    },
    {
      "cell_type": "markdown",
      "source": [
        "6.)How do conditional statements work in Python? Illustrate with examples.\n",
        "\n",
        "\n",
        "* Conditional statements in Python are used to execute certain blocks of code based on whether a condition is true or false. The main conditional statements in Python are:\n",
        "\n",
        "a.)if Statement:\n",
        "\n",
        "Executes a block of code only if the condition is true.\n",
        "\n",
        "\n",
        "\n",
        "\n",
        "\n",
        "\n",
        "\n",
        "\n"
      ],
      "metadata": {
        "id": "loYvp7miAugL"
      }
    },
    {
      "cell_type": "code",
      "source": [
        "x = 10\n",
        "\n",
        "if x > 5:\n",
        "    print(\"x is greater than 5\")\n"
      ],
      "metadata": {
        "colab": {
          "base_uri": "https://localhost:8080/"
        },
        "id": "fxBBcw0RBwDA",
        "outputId": "3edfe708-e206-4f6f-838b-6d0974513cba"
      },
      "execution_count": 28,
      "outputs": [
        {
          "output_type": "stream",
          "name": "stdout",
          "text": [
            "x is greater than 5\n"
          ]
        }
      ]
    },
    {
      "cell_type": "markdown",
      "source": [
        "b.)if-else Statement:\n",
        "\n",
        "Provides an alternative block of code to run if the condition is false."
      ],
      "metadata": {
        "id": "l5JITBFkBx-a"
      }
    },
    {
      "cell_type": "code",
      "source": [
        "x = 3\n",
        "\n",
        "if x > 5:\n",
        "    print(\"x is greater than 5\")\n",
        "else:\n",
        "    print(\"x is 5 or less\")\n"
      ],
      "metadata": {
        "colab": {
          "base_uri": "https://localhost:8080/"
        },
        "id": "7EkqKsLrB47q",
        "outputId": "8285d756-2541-43ef-8042-a9eead30ed47"
      },
      "execution_count": 29,
      "outputs": [
        {
          "output_type": "stream",
          "name": "stdout",
          "text": [
            "x is 5 or less\n"
          ]
        }
      ]
    },
    {
      "cell_type": "markdown",
      "source": [
        "c.)if-elif-else Statement:\n",
        "\n",
        "Allows checking multiple conditions"
      ],
      "metadata": {
        "id": "AcgY-FJUB-Jf"
      }
    },
    {
      "cell_type": "code",
      "source": [
        "x = 7\n",
        "\n",
        "if x > 10:\n",
        "    print(\"x is greater than 10\")\n",
        "elif x == 7:\n",
        "    print(\"x is exactly 7\")\n",
        "else:\n",
        "    print(\"x is 10 or less but not 7\")\n"
      ],
      "metadata": {
        "colab": {
          "base_uri": "https://localhost:8080/"
        },
        "id": "hJFWbpeNCFMR",
        "outputId": "429ab0de-a97f-4f7f-d568-2ab69c35f120"
      },
      "execution_count": 30,
      "outputs": [
        {
          "output_type": "stream",
          "name": "stdout",
          "text": [
            "x is exactly 7\n"
          ]
        }
      ]
    },
    {
      "cell_type": "markdown",
      "source": [
        "7.)Describe the different types of loops in Python and their use cases with examples.\n",
        "\n",
        "*  In Python, loops are used to execute a block of code repeatedly. The main types of loops in Python are:-\n",
        "\n",
        "a.)for Loop:\n",
        "\n",
        "The for loop is used for iterating over a sequence (like a list, tuple, dictionary, string, or range)\n",
        "\n",
        "**uses case:**\n",
        "\n",
        "\n",
        "*  Iterating through a list of items\n",
        "\n",
        "* Processing items in a string or file\n",
        "\n",
        "* Looping a fixed number of times\n",
        "\n",
        "examle:\n",
        "  \n",
        "\n",
        "\n"
      ],
      "metadata": {
        "id": "Lmw1vEw9CMMA"
      }
    },
    {
      "cell_type": "code",
      "source": [
        "fruits = [\"apple\", \"banana\", \"cherry\"]\n",
        "for fruit in fruits:\n",
        "    print(fruit)\n"
      ],
      "metadata": {
        "colab": {
          "base_uri": "https://localhost:8080/"
        },
        "id": "tz13FldXD88y",
        "outputId": "6f208ffb-8a87-4830-b57c-39a708edd68d"
      },
      "execution_count": 31,
      "outputs": [
        {
          "output_type": "stream",
          "name": "stdout",
          "text": [
            "apple\n",
            "banana\n",
            "cherry\n"
          ]
        }
      ]
    },
    {
      "cell_type": "markdown",
      "source": [
        "b.) while Loop:\n",
        "\n",
        "The while loop runs as long as a condition is True.\n",
        "\n",
        "**uses case:**\n",
        "\n",
        "\n",
        "* When the number of iterations is not known in advance\n",
        "\n",
        "* Waiting for a condition to become False\n",
        "\n",
        "example:"
      ],
      "metadata": {
        "id": "HPnmpm2TEA9P"
      }
    },
    {
      "cell_type": "code",
      "source": [
        "count = 0\n",
        "while count < 5:\n",
        "    print(\"Count:\", count)\n",
        "    count += 1\n"
      ],
      "metadata": {
        "colab": {
          "base_uri": "https://localhost:8080/"
        },
        "id": "q9Hq5CvhEiu_",
        "outputId": "7b90a485-1d63-4518-8853-7575a0fb0062"
      },
      "execution_count": 33,
      "outputs": [
        {
          "output_type": "stream",
          "name": "stdout",
          "text": [
            "Count: 0\n",
            "Count: 1\n",
            "Count: 2\n",
            "Count: 3\n",
            "Count: 4\n"
          ]
        }
      ]
    },
    {
      "cell_type": "markdown",
      "source": [
        "c.)nested Loops:\n",
        "\n",
        "Loops inside loops are called nested loops. You can use a for loop inside a while loop, or vice versa.\n",
        "\n",
        "\n",
        "\n",
        "\n",
        "**uses case:**\n",
        "\n",
        "* Iterating through a 2D array or matrix\n",
        "\n",
        "* Creating patterns\n",
        "\n",
        "example:\n",
        "\n",
        "\n"
      ],
      "metadata": {
        "id": "Ug2JqJNCEp7t"
      }
    },
    {
      "cell_type": "code",
      "source": [
        "for i in range(3):\n",
        "    for j in range(2):\n",
        "        print(f\"i={i}, j={j}\")\n"
      ],
      "metadata": {
        "colab": {
          "base_uri": "https://localhost:8080/"
        },
        "id": "ulOwsPhDF40x",
        "outputId": "d97c563e-9937-4e85-b98c-d7cb0b30d572"
      },
      "execution_count": 34,
      "outputs": [
        {
          "output_type": "stream",
          "name": "stdout",
          "text": [
            "i=0, j=0\n",
            "i=0, j=1\n",
            "i=1, j=0\n",
            "i=1, j=1\n",
            "i=2, j=0\n",
            "i=2, j=1\n"
          ]
        }
      ]
    },
    {
      "cell_type": "markdown",
      "source": [
        "d.) Loop Control Statements:\n",
        "\n",
        "These are not loops themselves, but they help control the flow of loops\n",
        "\n",
        "🔸 break\n",
        "\n",
        "Used to exit the loop prematurely."
      ],
      "metadata": {
        "id": "dXzxY3laGKJR"
      }
    },
    {
      "cell_type": "code",
      "source": [
        "for i in range(10):\n",
        "    if i == 5:\n",
        "        break\n",
        "    print(i)\n"
      ],
      "metadata": {
        "colab": {
          "base_uri": "https://localhost:8080/"
        },
        "id": "CR-VDwLjGVGO",
        "outputId": "8ab7e5ce-4fa7-4976-b1bb-dd74d49eb3b3"
      },
      "execution_count": 35,
      "outputs": [
        {
          "output_type": "stream",
          "name": "stdout",
          "text": [
            "0\n",
            "1\n",
            "2\n",
            "3\n",
            "4\n"
          ]
        }
      ]
    },
    {
      "cell_type": "markdown",
      "source": [
        "🔸 continue\n",
        "\n",
        "Skips the rest of the code inside the loop for the current iteration."
      ],
      "metadata": {
        "id": "1U3T0LWUGX_y"
      }
    },
    {
      "cell_type": "code",
      "source": [
        "for i in range(5):\n",
        "    if i == 2:\n",
        "        continue\n",
        "    print(i)\n"
      ],
      "metadata": {
        "colab": {
          "base_uri": "https://localhost:8080/"
        },
        "id": "hzuRK6NiGgW7",
        "outputId": "305a4c5a-802f-4142-e9cf-2b09a63d603e"
      },
      "execution_count": 36,
      "outputs": [
        {
          "output_type": "stream",
          "name": "stdout",
          "text": [
            "0\n",
            "1\n",
            "3\n",
            "4\n"
          ]
        }
      ]
    },
    {
      "cell_type": "markdown",
      "source": [
        "🔸 else in loops\n",
        "\n",
        "You can add an else block to loops that executes if the loop ends normally (not via break)."
      ],
      "metadata": {
        "id": "omx9i8vHGjJU"
      }
    },
    {
      "cell_type": "code",
      "source": [
        "for i in range(3):\n",
        "    print(i)\n",
        "else:\n",
        "    print(\"Loop finished without break.\")\n"
      ],
      "metadata": {
        "colab": {
          "base_uri": "https://localhost:8080/"
        },
        "id": "VWN-wTb_Gq06",
        "outputId": "e92e83b5-2441-41a9-ff34-34dc7664ccf6"
      },
      "execution_count": 37,
      "outputs": [
        {
          "output_type": "stream",
          "name": "stdout",
          "text": [
            "0\n",
            "1\n",
            "2\n",
            "Loop finished without break.\n"
          ]
        }
      ]
    },
    {
      "cell_type": "markdown",
      "source": [],
      "metadata": {
        "id": "N0M-8Pxt8mo9"
      }
    }
  ]
}